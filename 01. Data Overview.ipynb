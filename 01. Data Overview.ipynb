{
 "cells": [
  {
   "cell_type": "markdown",
   "metadata": {},
   "source": [
    "## Data investigation"
   ]
  },
  {
   "cell_type": "markdown",
   "metadata": {},
   "source": [
    "Data import"
   ]
  },
  {
   "cell_type": "markdown",
   "metadata": {},
   "source": [
    "Import libs"
   ]
  },
  {
   "cell_type": "code",
   "execution_count": 46,
   "metadata": {},
   "outputs": [],
   "source": [
    "import sys\n",
    "import os\n",
    "import re\n",
    "import time\n",
    "import matplotlib.pyplot as plt\n",
    "import seaborn as sns\n",
    "sns.set(color_codes=True)\n",
    "plt.style.use('ggplot')\n",
    "import pandas as pd\n",
    "import numpy as np\n",
    "import pdb\n",
    "from datetime import datetime"
   ]
  },
  {
   "cell_type": "code",
   "execution_count": 4,
   "metadata": {},
   "outputs": [
    {
     "data": {
      "text/plain": [
       "'C:\\\\Users\\\\Ogi\\\\Datathon Sep 2018'"
      ]
     },
     "execution_count": 4,
     "metadata": {},
     "output_type": "execute_result"
    }
   ],
   "source": [
    "pwd()"
   ]
  },
  {
   "cell_type": "code",
   "execution_count": 9,
   "metadata": {},
   "outputs": [
    {
     "name": "stdout",
     "output_type": "stream",
     "text": [
      "Time imprt had taken 0.35 seconds\n"
     ]
    }
   ],
   "source": [
    "## Import the sample data\n",
    "## clock the time for import\n",
    "\n",
    "tic = time.time()\n",
    "\n",
    "m1 = pd.read_csv(\"sample_Kaufland_case_IoT_and_predictive_maintenance.csv\", \\\n",
    "                 sep = ';', encoding='utf-8')\n",
    "\n",
    "tac = time.time()\n",
    "\n",
    "diff = tac - tic\n",
    "\n",
    "print(\"Time imprt had taken {a:.2f} seconds\".format(a = diff))"
   ]
  },
  {
   "cell_type": "code",
   "execution_count": 11,
   "metadata": {},
   "outputs": [],
   "source": [
    "## Create a copy of the data\n",
    "df_copy = df.copy()"
   ]
  },
  {
   "cell_type": "code",
   "execution_count": 12,
   "metadata": {},
   "outputs": [
    {
     "data": {
      "text/plain": [
       "(18, 7)"
      ]
     },
     "execution_count": 12,
     "metadata": {},
     "output_type": "execute_result"
    }
   ],
   "source": [
    "## Describe data\n",
    "df.shape"
   ]
  },
  {
   "cell_type": "code",
   "execution_count": 13,
   "metadata": {},
   "outputs": [
    {
     "data": {
      "text/plain": [
       "Index(['ifm_analysis_sensordata_for_datathon_final.machine_name',\n",
       "       'ifm_analysis_sensordata_for_datathon_final.sensor_type',\n",
       "       'ifm_analysis_sensordata_for_datathon_final.date_measurement',\n",
       "       'ifm_analysis_sensordata_for_datathon_final.start_timestamp',\n",
       "       'ifm_analysis_sensordata_for_datathon_final.end_timestamp',\n",
       "       'ifm_analysis_sensordata_for_datathon_final.realvalue',\n",
       "       'ifm_analysis_sensordata_for_datathon_final.unit'],\n",
       "      dtype='object')"
      ]
     },
     "execution_count": 13,
     "metadata": {},
     "output_type": "execute_result"
    }
   ],
   "source": [
    "## Look at the column names\n",
    "df.columns"
   ]
  },
  {
   "cell_type": "code",
   "execution_count": 14,
   "metadata": {},
   "outputs": [
    {
     "data": {
      "text/plain": [
       "Index(['ifm_analysis_sensordata_for_datathon_final.machine_name',\n",
       "       'ifm_analysis_sensordata_for_datathon_final.sensor_type',\n",
       "       'ifm_analysis_sensordata_for_datathon_final.date_measurement',\n",
       "       'ifm_analysis_sensordata_for_datathon_final.start_timestamp',\n",
       "       'ifm_analysis_sensordata_for_datathon_final.end_timestamp',\n",
       "       'ifm_analysis_sensordata_for_datathon_final.realvalue',\n",
       "       'ifm_analysis_sensordata_for_datathon_final.unit'],\n",
       "      dtype='object')"
      ]
     },
     "execution_count": 14,
     "metadata": {},
     "output_type": "execute_result"
    }
   ],
   "source": [
    "df.keys()"
   ]
  },
  {
   "cell_type": "code",
   "execution_count": 15,
   "metadata": {},
   "outputs": [
    {
     "data": {
      "text/html": [
       "<div>\n",
       "<style scoped>\n",
       "    .dataframe tbody tr th:only-of-type {\n",
       "        vertical-align: middle;\n",
       "    }\n",
       "\n",
       "    .dataframe tbody tr th {\n",
       "        vertical-align: top;\n",
       "    }\n",
       "\n",
       "    .dataframe thead th {\n",
       "        text-align: right;\n",
       "    }\n",
       "</style>\n",
       "<table border=\"1\" class=\"dataframe\">\n",
       "  <thead>\n",
       "    <tr style=\"text-align: right;\">\n",
       "      <th></th>\n",
       "      <th>ifm_analysis_sensordata_for_datathon_final.realvalue</th>\n",
       "    </tr>\n",
       "  </thead>\n",
       "  <tbody>\n",
       "    <tr>\n",
       "      <th>count</th>\n",
       "      <td>18.000000</td>\n",
       "    </tr>\n",
       "    <tr>\n",
       "      <th>mean</th>\n",
       "      <td>1.190944</td>\n",
       "    </tr>\n",
       "    <tr>\n",
       "      <th>std</th>\n",
       "      <td>0.372816</td>\n",
       "    </tr>\n",
       "    <tr>\n",
       "      <th>min</th>\n",
       "      <td>0.395000</td>\n",
       "    </tr>\n",
       "    <tr>\n",
       "      <th>25%</th>\n",
       "      <td>0.966250</td>\n",
       "    </tr>\n",
       "    <tr>\n",
       "      <th>50%</th>\n",
       "      <td>1.251500</td>\n",
       "    </tr>\n",
       "    <tr>\n",
       "      <th>75%</th>\n",
       "      <td>1.483750</td>\n",
       "    </tr>\n",
       "    <tr>\n",
       "      <th>max</th>\n",
       "      <td>1.620000</td>\n",
       "    </tr>\n",
       "  </tbody>\n",
       "</table>\n",
       "</div>"
      ],
      "text/plain": [
       "       ifm_analysis_sensordata_for_datathon_final.realvalue\n",
       "count                                          18.000000   \n",
       "mean                                            1.190944   \n",
       "std                                             0.372816   \n",
       "min                                             0.395000   \n",
       "25%                                             0.966250   \n",
       "50%                                             1.251500   \n",
       "75%                                             1.483750   \n",
       "max                                             1.620000   "
      ]
     },
     "execution_count": 15,
     "metadata": {},
     "output_type": "execute_result"
    }
   ],
   "source": [
    "df.describe()"
   ]
  },
  {
   "cell_type": "code",
   "execution_count": 18,
   "metadata": {},
   "outputs": [
    {
     "data": {
      "text/html": [
       "<div>\n",
       "<style scoped>\n",
       "    .dataframe tbody tr th:only-of-type {\n",
       "        vertical-align: middle;\n",
       "    }\n",
       "\n",
       "    .dataframe tbody tr th {\n",
       "        vertical-align: top;\n",
       "    }\n",
       "\n",
       "    .dataframe thead th {\n",
       "        text-align: right;\n",
       "    }\n",
       "</style>\n",
       "<table border=\"1\" class=\"dataframe\">\n",
       "  <thead>\n",
       "    <tr style=\"text-align: right;\">\n",
       "      <th></th>\n",
       "      <th>ifm_analysis_sensordata_for_datathon_final.machine_name</th>\n",
       "      <th>ifm_analysis_sensordata_for_datathon_final.sensor_type</th>\n",
       "      <th>ifm_analysis_sensordata_for_datathon_final.date_measurement</th>\n",
       "      <th>ifm_analysis_sensordata_for_datathon_final.start_timestamp</th>\n",
       "      <th>ifm_analysis_sensordata_for_datathon_final.end_timestamp</th>\n",
       "      <th>ifm_analysis_sensordata_for_datathon_final.realvalue</th>\n",
       "      <th>ifm_analysis_sensordata_for_datathon_final.unit</th>\n",
       "    </tr>\n",
       "  </thead>\n",
       "  <tbody>\n",
       "    <tr>\n",
       "      <th>0</th>\n",
       "      <td>RBG1</td>\n",
       "      <td>drive_gear_V_eff</td>\n",
       "      <td>2016-09-02</td>\n",
       "      <td>2016-09-02 15:26:42.823</td>\n",
       "      <td>2016-09-02 15:26:42.823</td>\n",
       "      <td>0.395</td>\n",
       "      <td>mm/s</td>\n",
       "    </tr>\n",
       "    <tr>\n",
       "      <th>1</th>\n",
       "      <td>RBG1</td>\n",
       "      <td>drive_gear_V_eff</td>\n",
       "      <td>2016-09-02</td>\n",
       "      <td>2016-09-02 15:26:45.653</td>\n",
       "      <td>2016-09-02 15:26:45.653</td>\n",
       "      <td>0.577</td>\n",
       "      <td>mm/s</td>\n",
       "    </tr>\n",
       "    <tr>\n",
       "      <th>2</th>\n",
       "      <td>RBG1</td>\n",
       "      <td>drive_gear_V_eff</td>\n",
       "      <td>2016-09-02</td>\n",
       "      <td>2016-09-02 15:26:48.467</td>\n",
       "      <td>2016-09-02 15:26:48.467</td>\n",
       "      <td>0.717</td>\n",
       "      <td>mm/s</td>\n",
       "    </tr>\n",
       "  </tbody>\n",
       "</table>\n",
       "</div>"
      ],
      "text/plain": [
       "  ifm_analysis_sensordata_for_datathon_final.machine_name  \\\n",
       "0                                               RBG1        \n",
       "1                                               RBG1        \n",
       "2                                               RBG1        \n",
       "\n",
       "  ifm_analysis_sensordata_for_datathon_final.sensor_type  \\\n",
       "0                                   drive_gear_V_eff       \n",
       "1                                   drive_gear_V_eff       \n",
       "2                                   drive_gear_V_eff       \n",
       "\n",
       "  ifm_analysis_sensordata_for_datathon_final.date_measurement  \\\n",
       "0                                         2016-09-02            \n",
       "1                                         2016-09-02            \n",
       "2                                         2016-09-02            \n",
       "\n",
       "  ifm_analysis_sensordata_for_datathon_final.start_timestamp  \\\n",
       "0                            2016-09-02 15:26:42.823           \n",
       "1                            2016-09-02 15:26:45.653           \n",
       "2                            2016-09-02 15:26:48.467           \n",
       "\n",
       "  ifm_analysis_sensordata_for_datathon_final.end_timestamp  \\\n",
       "0                            2016-09-02 15:26:42.823         \n",
       "1                            2016-09-02 15:26:45.653         \n",
       "2                            2016-09-02 15:26:48.467         \n",
       "\n",
       "   ifm_analysis_sensordata_for_datathon_final.realvalue  \\\n",
       "0                                              0.395      \n",
       "1                                              0.577      \n",
       "2                                              0.717      \n",
       "\n",
       "  ifm_analysis_sensordata_for_datathon_final.unit  \n",
       "0                                            mm/s  \n",
       "1                                            mm/s  \n",
       "2                                            mm/s  "
      ]
     },
     "execution_count": 18,
     "metadata": {},
     "output_type": "execute_result"
    }
   ],
   "source": [
    "df.head(3)"
   ]
  },
  {
   "cell_type": "code",
   "execution_count": 19,
   "metadata": {},
   "outputs": [
    {
     "data": {
      "text/plain": [
       "ifm_analysis_sensordata_for_datathon_final.machine_name         object\n",
       "ifm_analysis_sensordata_for_datathon_final.sensor_type          object\n",
       "ifm_analysis_sensordata_for_datathon_final.date_measurement     object\n",
       "ifm_analysis_sensordata_for_datathon_final.start_timestamp      object\n",
       "ifm_analysis_sensordata_for_datathon_final.end_timestamp        object\n",
       "ifm_analysis_sensordata_for_datathon_final.realvalue           float64\n",
       "ifm_analysis_sensordata_for_datathon_final.unit                 object\n",
       "dtype: object"
      ]
     },
     "execution_count": 19,
     "metadata": {},
     "output_type": "execute_result"
    }
   ],
   "source": [
    "df.dtypes"
   ]
  },
  {
   "cell_type": "code",
   "execution_count": null,
   "metadata": {},
   "outputs": [],
   "source": []
  },
  {
   "cell_type": "code",
   "execution_count": 21,
   "metadata": {},
   "outputs": [],
   "source": [
    "# standardize the column names\n",
    "def StandardizeNames(df):\n",
    "    l = df.columns\n",
    "    #pdb.set_trace()\n",
    "    cols = [c.replace('ifm_analysis_sensordata_for_datathon_final.','').\n",
    "              lower() for c in l]\n",
    "    return cols"
   ]
  },
  {
   "cell_type": "code",
   "execution_count": 22,
   "metadata": {},
   "outputs": [],
   "source": [
    "df.columns = StandardizeNames(df)"
   ]
  },
  {
   "cell_type": "code",
   "execution_count": 25,
   "metadata": {},
   "outputs": [
    {
     "data": {
      "text/plain": [
       "Index(['machine_name', 'sensor_type', 'date_measurement', 'start_timestamp',\n",
       "       'end_timestamp', 'realvalue', 'unit', 'start_timestamp_f'],\n",
       "      dtype='object')"
      ]
     },
     "execution_count": 25,
     "metadata": {},
     "output_type": "execute_result"
    }
   ],
   "source": [
    "df.keys()"
   ]
  },
  {
   "cell_type": "code",
   "execution_count": 29,
   "metadata": {},
   "outputs": [],
   "source": [
    "## Convrt to datetime\n",
    "df[\"date_measurement_f\"] = pd.to_datetime(df[\"date_measurement\"])"
   ]
  },
  {
   "cell_type": "code",
   "execution_count": 30,
   "metadata": {},
   "outputs": [],
   "source": [
    "## Convrt to datetime\n",
    "df[\"start_timestamp_f\"] = pd.to_datetime(df[\"start_timestamp\"])"
   ]
  },
  {
   "cell_type": "code",
   "execution_count": 31,
   "metadata": {},
   "outputs": [],
   "source": [
    "## Convrt to datetime\n",
    "df[\"end_timestamp_f\"] = pd.to_datetime(df[\"end_timestamp\"])"
   ]
  },
  {
   "cell_type": "code",
   "execution_count": 32,
   "metadata": {},
   "outputs": [
    {
     "data": {
      "text/plain": [
       "machine_name                  object\n",
       "sensor_type                   object\n",
       "date_measurement              object\n",
       "start_timestamp               object\n",
       "end_timestamp                 object\n",
       "realvalue                    float64\n",
       "unit                          object\n",
       "start_timestamp_f     datetime64[ns]\n",
       "date_measurement_f    datetime64[ns]\n",
       "end_timestamp_f       datetime64[ns]\n",
       "dtype: object"
      ]
     },
     "execution_count": 32,
     "metadata": {},
     "output_type": "execute_result"
    }
   ],
   "source": [
    "df.dtypes"
   ]
  },
  {
   "cell_type": "code",
   "execution_count": 33,
   "metadata": {},
   "outputs": [
    {
     "data": {
      "text/html": [
       "<div>\n",
       "<style scoped>\n",
       "    .dataframe tbody tr th:only-of-type {\n",
       "        vertical-align: middle;\n",
       "    }\n",
       "\n",
       "    .dataframe tbody tr th {\n",
       "        vertical-align: top;\n",
       "    }\n",
       "\n",
       "    .dataframe thead th {\n",
       "        text-align: right;\n",
       "    }\n",
       "</style>\n",
       "<table border=\"1\" class=\"dataframe\">\n",
       "  <thead>\n",
       "    <tr style=\"text-align: right;\">\n",
       "      <th></th>\n",
       "      <th>machine_name</th>\n",
       "      <th>sensor_type</th>\n",
       "      <th>date_measurement</th>\n",
       "      <th>start_timestamp</th>\n",
       "      <th>end_timestamp</th>\n",
       "      <th>realvalue</th>\n",
       "      <th>unit</th>\n",
       "      <th>start_timestamp_f</th>\n",
       "      <th>date_measurement_f</th>\n",
       "      <th>end_timestamp_f</th>\n",
       "    </tr>\n",
       "  </thead>\n",
       "  <tbody>\n",
       "    <tr>\n",
       "      <th>0</th>\n",
       "      <td>RBG1</td>\n",
       "      <td>drive_gear_V_eff</td>\n",
       "      <td>2016-09-02</td>\n",
       "      <td>2016-09-02 15:26:42.823</td>\n",
       "      <td>2016-09-02 15:26:42.823</td>\n",
       "      <td>0.395</td>\n",
       "      <td>mm/s</td>\n",
       "      <td>2016-09-02 15:26:42.823</td>\n",
       "      <td>2016-09-02</td>\n",
       "      <td>2016-09-02 15:26:42.823</td>\n",
       "    </tr>\n",
       "    <tr>\n",
       "      <th>1</th>\n",
       "      <td>RBG1</td>\n",
       "      <td>drive_gear_V_eff</td>\n",
       "      <td>2016-09-02</td>\n",
       "      <td>2016-09-02 15:26:45.653</td>\n",
       "      <td>2016-09-02 15:26:45.653</td>\n",
       "      <td>0.577</td>\n",
       "      <td>mm/s</td>\n",
       "      <td>2016-09-02 15:26:45.653</td>\n",
       "      <td>2016-09-02</td>\n",
       "      <td>2016-09-02 15:26:45.653</td>\n",
       "    </tr>\n",
       "    <tr>\n",
       "      <th>2</th>\n",
       "      <td>RBG1</td>\n",
       "      <td>drive_gear_V_eff</td>\n",
       "      <td>2016-09-02</td>\n",
       "      <td>2016-09-02 15:26:48.467</td>\n",
       "      <td>2016-09-02 15:26:48.467</td>\n",
       "      <td>0.717</td>\n",
       "      <td>mm/s</td>\n",
       "      <td>2016-09-02 15:26:48.467</td>\n",
       "      <td>2016-09-02</td>\n",
       "      <td>2016-09-02 15:26:48.467</td>\n",
       "    </tr>\n",
       "  </tbody>\n",
       "</table>\n",
       "</div>"
      ],
      "text/plain": [
       "  machine_name       sensor_type date_measurement          start_timestamp  \\\n",
       "0         RBG1  drive_gear_V_eff       2016-09-02  2016-09-02 15:26:42.823   \n",
       "1         RBG1  drive_gear_V_eff       2016-09-02  2016-09-02 15:26:45.653   \n",
       "2         RBG1  drive_gear_V_eff       2016-09-02  2016-09-02 15:26:48.467   \n",
       "\n",
       "             end_timestamp  realvalue  unit       start_timestamp_f  \\\n",
       "0  2016-09-02 15:26:42.823      0.395  mm/s 2016-09-02 15:26:42.823   \n",
       "1  2016-09-02 15:26:45.653      0.577  mm/s 2016-09-02 15:26:45.653   \n",
       "2  2016-09-02 15:26:48.467      0.717  mm/s 2016-09-02 15:26:48.467   \n",
       "\n",
       "  date_measurement_f         end_timestamp_f  \n",
       "0         2016-09-02 2016-09-02 15:26:42.823  \n",
       "1         2016-09-02 2016-09-02 15:26:45.653  \n",
       "2         2016-09-02 2016-09-02 15:26:48.467  "
      ]
     },
     "execution_count": 33,
     "metadata": {},
     "output_type": "execute_result"
    }
   ],
   "source": [
    "df.head(3)"
   ]
  },
  {
   "cell_type": "markdown",
   "metadata": {},
   "source": [
    "## Plot the data in order to see some insights"
   ]
  },
  {
   "cell_type": "code",
   "execution_count": 47,
   "metadata": {},
   "outputs": [
    {
     "name": "stderr",
     "output_type": "stream",
     "text": [
      "C:\\Users\\Ogi\\Anaconda3\\lib\\site-packages\\seaborn\\timeseries.py:183: UserWarning: The tsplot function is deprecated and will be removed or replaced (in a substantially altered version) in a future release.\n",
      "  warnings.warn(msg, UserWarning)\n"
     ]
    },
    {
     "data": {
      "image/png": "[encoded data removed]",
      "text/plain": [
       "<Figure size 432x288 with 1 Axes>"
      ]
     },
     "metadata": {},
     "output_type": "display_data"
    }
   ],
   "source": [
    "ax = sns.tsplot(data=df[0:10],time = \"start_timestamp_f\", unit = \"machine_name\", \\\n",
    "               condition = \"machine_name\", value = \"realvalue\")"
   ]
  },
  {
   "cell_type": "code",
   "execution_count": 48,
   "metadata": {},
   "outputs": [
    {
     "name": "stderr",
     "output_type": "stream",
     "text": [
      "C:\\Users\\Ogi\\Anaconda3\\lib\\site-packages\\seaborn\\timeseries.py:183: UserWarning: The tsplot function is deprecated and will be removed or replaced (in a substantially altered version) in a future release.\n",
      "  warnings.warn(msg, UserWarning)\n"
     ]
    },
    {
     "data": {
      "image/png": "[encoded data removed]",
      "text/plain": [
       "<Figure size 432x288 with 1 Axes>"
      ]
     },
     "metadata": {},
     "output_type": "display_data"
    }
   ],
   "source": [
    "ax = sns.tsplot(data=df[10:],time = \"start_timestamp_f\", unit = \"machine_name\", \\\n",
    "               condition = \"machine_name\", value = \"realvalue\", color = \"black\")"
   ]
  }
 ],
 "metadata": {
  "kernelspec": {
   "display_name": "Python 3",
   "language": "python",
   "name": "python3"
  },
  "language_info": {
   "codemirror_mode": {
    "name": "ipython",
    "version": 3
   },
   "file_extension": ".py",
   "mimetype": "text/x-python",
   "name": "python",
   "nbconvert_exporter": "python",
   "pygments_lexer": "ipython3",
   "version": "3.6.5"
  }
 },
 "nbformat": 4,
 "nbformat_minor": 2
}
